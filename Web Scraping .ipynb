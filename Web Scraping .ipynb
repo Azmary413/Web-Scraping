{
 "cells": [
  {
   "cell_type": "code",
   "execution_count": 16,
   "id": "acd4bf24",
   "metadata": {},
   "outputs": [],
   "source": [
    "import requests\n",
    "import bs4\n",
    "from bs4 import  BeautifulSoup"
   ]
  },
  {
   "cell_type": "code",
   "execution_count": 17,
   "id": "e1a35726",
   "metadata": {},
   "outputs": [],
   "source": [
    "url = 'https://economictimes.indiatimes.com/markets/stocks/news'"
   ]
  },
  {
   "cell_type": "code",
   "execution_count": 18,
   "id": "ca1dbf19",
   "metadata": {},
   "outputs": [],
   "source": [
    "headers = { 'User Agent' : \"Mozilla/5.0 (Windows NT 10.0; Win64; x64) AppleWebKit/537.36 (KHTML, like Gecko) Chrome/100.0.4896.88 Safari/537.36\"}"
   ]
  },
  {
   "cell_type": "code",
   "execution_count": 19,
   "id": "ecdc4dd6",
   "metadata": {},
   "outputs": [],
   "source": [
    "def getNews ():\n",
    "    req = requests.get(url,{'headers':headers})\n",
    "    soup = bs4.BeautifulSoup(req.text,'html.parser')\n",
    "    i = 0\n",
    "    length = len(soup.find_all('div',{'class' : 'eachStory'}))\n",
    "    while i <length:\n",
    "        headline = (soup.find_all('div',{'class' : 'eachStory'})[i].find_all('a')[-1].text)\n",
    "        print(str(i+1)+ \" : \" +headline)\n",
    "        print(str(\"Description\")+ \":\" +(soup.find_all('div',{'class' : 'eachStory'})[i].find_all('p')[0].text))\n",
    "        i+=1\n",
    "        print (\" \")\n",
    "        print (\" \")\n",
    "\n",
    "    \n",
    "    "
   ]
  },
  {
   "cell_type": "code",
   "execution_count": 20,
   "id": "e57f7e09",
   "metadata": {},
   "outputs": [
    {
     "name": "stdout",
     "output_type": "stream",
     "text": [
      "1 : Fund raising via debt placement hits 6-yr low at Rs 5.88 lakh cr in FY22\n",
      "Description:​​ Unless the high government borrowings and adverse interest rate cycle play spoilsport, the ongoing financial year is expected to be robust in terms of fund raising activities through the debt route on account of higher demand for credit from corporates in light of the improving economic outlook, experts said.\n",
      " \n",
      " \n",
      "2 : Asian shares fall, trading muted with Good Friday holidays\n",
      "Description:Benchmarks declined in Tokyo, Seoul and Shanghai. Sydney, Manila, Bangkok and Hong Kong were among markets observing holidays on Friday. U.S. and European markets also were closed. Japan's benchmark Nikkei 225 lost 0.3% to finish at 27,093.19. South Korea's Kospi dipped 0.8% to 2,696.06. The Shanghai Composite lost 0.5% to 3,211.24.\n",
      " \n",
      " \n",
      "3 : BlackRock deal: After 190% gain, can multibagger Tata Power rise further?\n",
      "Description:According to the binding agreement, Black Rock Real Assets will invest the funds by equity and compulsorily convertible instruments for a 10.53 per cent stake in Tata Power Renewables, translating to a base equity valuation of Rs 34,000 crore. The final shareholding will range from 9.8 per cent to 11.4 per cent on final conversion.\n",
      " \n",
      " \n",
      "4 : How nations fare as inflation rages through the world\n",
      "Description:Inflation has been making a comeback all over the world for the last few quarters. It started with the rally in commodities, specially oil and metals, post Covid in 2020 after a 10-15 year period during which various commodity prices had remained largely subdued. After some ups and downs in 2021, the prices started to accelerate around the beginning of the new year. \n",
      " \n",
      " \n",
      "5 : Stock-and-bond bottom feeders hold on tight amid Fed bullying\n",
      "Description:While this week saw the hottest readings on inflation in four decades, it also featured conspicuous signs of resilience, including a bounce on Wednesday that pushed the S&P 500 up the most since last month. Two-year Treasury yields eased in three of four sessions, while industrial stocks held firm and volatility benchmarks were unmoved.\n",
      " \n",
      " \n",
      "6 : Goldman Sachs, Morgan Stanley face off on Musk bid for Twitter\n",
      "Description:Though they’ll be sitting opposite each other in any negotiations, Morgan Stanley and Goldman each have a relationship with Musk that stretches back more than a decade. Both New York-based investment banks underwrote Tesla’s 2010 initial public offering: Goldman got the coveted lead left role, while Morgan Stanley was listed second on the prospectus.\n",
      " \n",
      " \n",
      "7 : Elon Musk’s retail investor army could offer Twitter takeover hope\n",
      "Description:If Musk chooses, he may be able to turn Twitter into a so-called meme stock. Last year firms like AMC Entertainment Holdings Inc. and GameStop exploded, after retail investors flooded social media forums, causing shares to go haywire. And Twitter is arguably the meme-ish of all stocks. It’s where most of them are made.\n",
      " \n",
      " \n",
      "8 : Mutual Funds go long on new-age companies, beaten-down stocks\n",
      "Description:Amidst rising inflows into equity funds, fund managers bet on the ‘re-opening trade’, buying shares of airlines, hotels, malls, entertainment and logistics. Prominent companies such as Indian Hotels, KPR Mill, V-Mart Retail, Sundaram Finance, Bharat Forge, PVR, and Barbeque-Nation Hospitality have been bought by fund managers of leading fund houses for their March 2022 portfolio.\n",
      " \n",
      " \n",
      "9 : Brokers cut Infosys targets by 4-7% but still remain bullish\n",
      "Description:Street factors in Q4 hiccup and also cheers encouraging FY23 growth guidance and large bookings in the last financial year Citi has trimmed target price to Rs 2,010 from Rs 2,155 with a ‘buy’ rating and CLSA has maintained ‘buy’ with a target price of Rs 2,040. Investec has retained a hold with a target price of ?1,705, revised down from Rs 1,790.\n",
      " \n",
      " \n",
      "10 : US stocks advance as investors digest earnings; Twitter jumps\n",
      "Description:The Dow Jones Industrial Average rose 63.9 points, or 0.18%, at the open to 34628.46.\n",
      " \n",
      " \n",
      "11 : Reduce weightage in IT stocks, says HSBC Global; cuts price targets for TCS, Infosys\n",
      "Description:After providing investors with a massive 40 per cent return in 2021-22, the Nifty IT index is down 5.4 per cent so far this year, and earnings of the two largest companies, TCS and Infosys, have done little to stem the slide.\n",
      " \n",
      " \n",
      "12 : Team Prashant Jain lapped up shares of HDFC twins in March, dumped PSU stocks\n",
      "Description: HDFC Mutual Fund loaded up 80 lakh shares of HDFC Bank and 71 lakh shares of HDFC in March. Interestingly, buying came ahead of the Street-shaking announcement of the merger of both entities in early April, following which both stocks rallied significantly.\n",
      " \n",
      " \n",
      "13 : HDFC Bank Q4 results preview: Here's what to expect from India's largest private lender\n",
      "Description:HDFC Bank is set to declare its Q4 results on Saturday with a tempered growth in Net Interest Income and Pre-provisioning operating profit. PAT is expected to be flat sequentially and grow a solid 24% on a YOY basis.  NIMs are expected to come in the stable for the Bank. The Bank updated a strong balance sheet performance in Q4 with advances growing a solid 8.65% QOQ.  HDFC Bank is in focus for the merger of HDFC Limited with the Bank, but the focus will temporarily shift to results for the moment. Growth for the bank has been strong but the market will be looking at its unsecured book asset quality and the integration with HDFC Ltd.\n",
      " \n",
      " \n",
      "14 : FTSE 100 slips as stronger pound, energy stocks weigh\n",
      "Description:The blue-chip index fell 0.2%, with oil majors BP and Shell down 0.3% each on weaker crude prices.\n",
      " \n",
      " \n",
      "15 : Australia shares end higher as travel, gold stocks gain\n",
      "Description:The S&P/ASX 200 closed 0.6% higher at 7,523.4, posting its fourth weekly gain in five. The benchmark marked its lowest trading volume so far this year, ahead of a long weekend due to Good Friday and Easter Monday holidays.\n",
      " \n",
      " \n",
      "16 : Tokyo stocks close higher on US gains\n",
      "Description:The benchmark Nikkei 225 index rose 1.22 percent, or 328.51 points, to 27,172.00, while the broader Topix index gained 0.95 percent, or 17.99 points, to end at 1,908.05.\n",
      " \n",
      " \n"
     ]
    }
   ],
   "source": [
    "getNews()"
   ]
  },
  {
   "cell_type": "code",
   "execution_count": null,
   "id": "2aff76ab",
   "metadata": {},
   "outputs": [],
   "source": []
  }
 ],
 "metadata": {
  "kernelspec": {
   "display_name": "Python 3",
   "language": "python",
   "name": "python3"
  },
  "language_info": {
   "codemirror_mode": {
    "name": "ipython",
    "version": 3
   },
   "file_extension": ".py",
   "mimetype": "text/x-python",
   "name": "python",
   "nbconvert_exporter": "python",
   "pygments_lexer": "ipython3",
   "version": "3.8.8"
  }
 },
 "nbformat": 4,
 "nbformat_minor": 5
}
